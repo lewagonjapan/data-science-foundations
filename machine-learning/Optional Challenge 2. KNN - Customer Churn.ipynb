{
 "cells": [
  {
   "attachments": {},
   "cell_type": "markdown",
   "metadata": {
    "datalore": {
     "hide_input_from_viewers": true,
     "hide_output_from_viewers": true,
     "node_id": "GYyuefolRMAXNuNjI2wU6o",
     "type": "MD"
    }
   },
   "source": [
    "# Classification Problem - Predicting Customer Churn 🛫"
   ]
  },
  {
   "attachments": {},
   "cell_type": "markdown",
   "metadata": {
    "datalore": {
     "hide_input_from_viewers": true,
     "hide_output_from_viewers": true,
     "node_id": "aFTnnmlrL2Yc9NcFivXLoD",
     "type": "MD"
    }
   },
   "source": [
    "------------"
   ]
  },
  {
   "attachments": {},
   "cell_type": "markdown",
   "metadata": {
    "datalore": {
     "hide_input_from_viewers": true,
     "hide_output_from_viewers": true,
     "node_id": "LsiEd9jDLzeQdo5DxId0vS",
     "type": "MD"
    }
   },
   "source": [
    "## Quick reminder on `Jupyter Notebook` and `Python` basics 🚴‍♀️"
   ]
  },
  {
   "attachments": {},
   "cell_type": "markdown",
   "metadata": {
    "datalore": {
     "hide_input_from_viewers": true,
     "hide_output_from_viewers": true,
     "node_id": "KF92E6NO44NT0sPotugZRZ",
     "type": "MD"
    }
   },
   "source": [
    "Notebook consists of two main parts.\n",
    "\n",
    "1. Text instructions like this one - these are made using a text formatting language called [Markdown](https://github.com/adam-p/markdown-here/wiki/Markdown-Cheatsheet)\n",
    "\n",
    "2. Code cells like the one below:"
   ]
  },
  {
   "cell_type": "code",
   "execution_count": 13,
   "metadata": {
    "datalore": {
     "hide_input_from_viewers": true,
     "hide_output_from_viewers": true,
     "node_id": "CqVk4O4NnW0utB3az4Vwnn",
     "type": "CODE"
    }
   },
   "outputs": [
    {
     "data": {
      "text/plain": [
       "3"
      ]
     },
     "execution_count": 13,
     "metadata": {},
     "output_type": "execute_result"
    }
   ],
   "source": [
    "1 + 1 * 2"
   ]
  },
  {
   "attachments": {},
   "cell_type": "markdown",
   "metadata": {
    "datalore": {
     "hide_input_from_viewers": true,
     "hide_output_from_viewers": true,
     "node_id": "9QgIFvCcC0ELkiCKcZMAXq",
     "type": "MD"
    }
   },
   "source": [
    "1. To run a code cell, click into it with your mouse and press the `► Run` button in the navbar at the top of the notebook. \n",
    "2. You can also use the shortcut `Shift + Enter` to run a cell!\n",
    "3. A cell that has been run will get a `In [number]` next to it\n",
    "4. An output (returned value) of a cell will be displayed below with a `Out[number]` next to it\n",
    "5. If you want to add another code cell - look for the `➕` button in the navbar."
   ]
  },
  {
   "attachments": {},
   "cell_type": "markdown",
   "metadata": {
    "datalore": {
     "hide_input_from_viewers": true,
     "hide_output_from_viewers": true,
     "node_id": "O5aS8V5FSfdYIZ4799vI7d",
     "type": "MD"
    }
   },
   "source": [
    "In **Python** we have **built-in data types** to help us work with different kinds of data:"
   ]
  },
  {
   "attachments": {},
   "cell_type": "markdown",
   "metadata": {
    "datalore": {
     "hide_input_from_viewers": true,
     "hide_output_from_viewers": true,
     "node_id": "HboYw5sSumvQO7CV3h6wYT",
     "type": "MD"
    }
   },
   "source": [
    "**Strings** (`str` in Python) for **literal text, column or file names**. Made by putting quotes (`\"\"`) around the text."
   ]
  },
  {
   "cell_type": "code",
   "execution_count": 14,
   "metadata": {
    "datalore": {
     "hide_input_from_viewers": true,
     "hide_output_from_viewers": true,
     "node_id": "CjS9udd1W63RONGDzQQOk8",
     "type": "CODE"
    }
   },
   "outputs": [
    {
     "data": {
      "text/plain": [
       "'ML like a pro'"
      ]
     },
     "execution_count": 14,
     "metadata": {},
     "output_type": "execute_result"
    }
   ],
   "source": [
    "\"hello!\"\n",
    "\"ML like a pro\""
   ]
  },
  {
   "attachments": {},
   "cell_type": "markdown",
   "metadata": {
    "datalore": {
     "hide_input_from_viewers": true,
     "hide_output_from_viewers": true,
     "node_id": "FziXuA5LeoSe8WYszo3Rzk",
     "type": "MD"
    }
   },
   "source": [
    "**Integers** (`int` in Python) for **whole numbers**"
   ]
  },
  {
   "cell_type": "code",
   "execution_count": 15,
   "metadata": {
    "datalore": {
     "hide_input_from_viewers": true,
     "hide_output_from_viewers": true,
     "node_id": "3GP5xmyL7RifCSRuRuoFWa",
     "type": "CODE"
    }
   },
   "outputs": [
    {
     "data": {
      "text/plain": [
       "-10"
      ]
     },
     "execution_count": 15,
     "metadata": {},
     "output_type": "execute_result"
    }
   ],
   "source": [
    "42\n",
    "-10"
   ]
  },
  {
   "attachments": {},
   "cell_type": "markdown",
   "metadata": {
    "datalore": {
     "hide_input_from_viewers": true,
     "hide_output_from_viewers": true,
     "node_id": "c01A57kQH8fHOLaFnHUoVI",
     "type": "MD"
    }
   },
   "source": [
    "**Floats** (`float` in Python) for **numbers with decimal points**. The decimal delimeter is always `.`"
   ]
  },
  {
   "cell_type": "code",
   "execution_count": 16,
   "metadata": {
    "datalore": {
     "hide_input_from_viewers": true,
     "hide_output_from_viewers": true,
     "node_id": "HI83e9qoQYAMHail07EifF",
     "type": "CODE"
    }
   },
   "outputs": [
    {
     "data": {
      "text/plain": [
       "3.14"
      ]
     },
     "execution_count": 16,
     "metadata": {},
     "output_type": "execute_result"
    }
   ],
   "source": [
    "3.14"
   ]
  },
  {
   "attachments": {},
   "cell_type": "markdown",
   "metadata": {
    "datalore": {
     "hide_input_from_viewers": true,
     "hide_output_from_viewers": true,
     "node_id": "2JuBI7GT50bVwYYj5CohwX",
     "type": "MD"
    }
   },
   "source": [
    "We have **variables** to help store data:"
   ]
  },
  {
   "cell_type": "code",
   "execution_count": 17,
   "metadata": {
    "datalore": {
     "hide_input_from_viewers": true,
     "hide_output_from_viewers": true,
     "node_id": "dXIcT9JVmZtswUHoQcPpwd",
     "type": "CODE"
    }
   },
   "outputs": [],
   "source": [
    "name = \"Alan Turing\"\n",
    "age = 42\n",
    "new_hire = [[0, 30, 3, 7.1, 12]]"
   ]
  },
  {
   "attachments": {},
   "cell_type": "markdown",
   "metadata": {
    "datalore": {
     "hide_input_from_viewers": true,
     "hide_output_from_viewers": true,
     "node_id": "kWaltbF5F4VdyYmQvJJTc3",
     "type": "MD"
    }
   },
   "source": [
    "...and **re-use** it later!:"
   ]
  },
  {
   "cell_type": "code",
   "execution_count": 18,
   "metadata": {
    "datalore": {
     "hide_input_from_viewers": true,
     "hide_output_from_viewers": true,
     "node_id": "ErXPDXESERsQR6EJ6DOdA1",
     "type": "CODE"
    }
   },
   "outputs": [
    {
     "data": {
      "text/plain": [
       "'Hi, my name is Alan Turing'"
      ]
     },
     "execution_count": 18,
     "metadata": {},
     "output_type": "execute_result"
    }
   ],
   "source": [
    "\"Hi, my name is \" + name"
   ]
  },
  {
   "attachments": {},
   "cell_type": "markdown",
   "metadata": {
    "datalore": {
     "hide_input_from_viewers": true,
     "hide_output_from_viewers": true,
     "node_id": "RfcGvZlutk5gZhVncYfjoS",
     "type": "MD"
    }
   },
   "source": [
    "We can also **update** variables:"
   ]
  },
  {
   "cell_type": "code",
   "execution_count": 19,
   "metadata": {
    "datalore": {
     "hide_input_from_viewers": true,
     "hide_output_from_viewers": true,
     "node_id": "iyhNX5NlGi0lu8cUlXhzpH",
     "type": "CODE"
    }
   },
   "outputs": [
    {
     "data": {
      "text/plain": [
       "43"
      ]
     },
     "execution_count": 19,
     "metadata": {},
     "output_type": "execute_result"
    }
   ],
   "source": [
    "# getting one year older :(\n",
    "age = age + 1\n",
    "age"
   ]
  },
  {
   "attachments": {},
   "cell_type": "markdown",
   "metadata": {
    "datalore": {
     "hide_input_from_viewers": true,
     "hide_output_from_viewers": true,
     "node_id": "V68rytSLBt0xEUkpOm6ZwT",
     "type": "MD"
    }
   },
   "source": [
    "And we have **methods** to perform actions on data:"
   ]
  },
  {
   "cell_type": "code",
   "execution_count": 20,
   "metadata": {
    "datalore": {
     "hide_input_from_viewers": true,
     "hide_output_from_viewers": true,
     "node_id": "8h2GNbiOnUMY0cKLFpGkNk",
     "type": "CODE"
    }
   },
   "outputs": [
    {
     "data": {
      "text/plain": [
       "'ALAN TURING'"
      ]
     },
     "execution_count": 20,
     "metadata": {},
     "output_type": "execute_result"
    }
   ],
   "source": [
    "name.upper()"
   ]
  },
  {
   "cell_type": "code",
   "execution_count": 21,
   "metadata": {
    "datalore": {
     "hide_input_from_viewers": true,
     "hide_output_from_viewers": true,
     "node_id": "EMTItov5GxKhaNEZfOD2kE",
     "type": "CODE"
    }
   },
   "outputs": [
    {
     "data": {
      "text/plain": [
       "2"
      ]
     },
     "execution_count": 21,
     "metadata": {},
     "output_type": "execute_result"
    }
   ],
   "source": [
    "number_of_n = name.count('n') # creating a new variable as a result of the method call\n",
    "number_of_n"
   ]
  },
  {
   "attachments": {},
   "cell_type": "markdown",
   "metadata": {
    "datalore": {
     "hide_input_from_viewers": true,
     "hide_output_from_viewers": true,
     "node_id": "ZU4nRyv0XvPzzNsSdLFibh",
     "type": "MD"
    }
   },
   "source": [
    "----------"
   ]
  },
  {
   "attachments": {},
   "cell_type": "markdown",
   "metadata": {
    "datalore": {
     "hide_input_from_viewers": true,
     "hide_output_from_viewers": true,
     "node_id": "4wqoA1uY3lytf1zTdSWuez",
     "type": "MD"
    }
   },
   "source": [
    "# A new model - K-Nearest Neighbors 🤜 🤛 "
   ]
  },
  {
   "attachments": {},
   "cell_type": "markdown",
   "metadata": {
    "datalore": {
     "hide_input_from_viewers": true,
     "hide_output_from_viewers": true,
     "node_id": "4AC5MnDk1uhop8DOql8I5F",
     "type": "MD"
    }
   },
   "source": [
    "[K-Nearest Neighbors (or KNN)](https://scikit-learn.org/0.24/modules/generated/sklearn.neighbors.KNeighborsClassifier.html) is a distance-based model that can be used both for regression (predict a number) or classification (predict a category)."
   ]
  },
  {
   "attachments": {},
   "cell_type": "markdown",
   "metadata": {
    "datalore": {
     "hide_input_from_viewers": true,
     "hide_output_from_viewers": true,
     "node_id": "zbItpl0371hAZc29z8A0BY",
     "type": "MD"
    }
   },
   "source": [
    "**And the best part?** The steps are exactly the same for KNN model as for the Linear Regression we just did! 🙌"
   ]
  },
  {
   "attachments": {},
   "cell_type": "markdown",
   "metadata": {
    "datalore": {
     "hide_input_from_viewers": true,
     "hide_output_from_viewers": true,
     "node_id": "aBmgLgTeNHrk6VuzGGBztV",
     "type": "MD"
    }
   },
   "source": [
    "1. Let's start by importing the necessary Python libraries again"
   ]
  },
  {
   "cell_type": "code",
   "execution_count": 22,
   "metadata": {
    "datalore": {
     "hide_input_from_viewers": true,
     "hide_output_from_viewers": true,
     "node_id": "ch3Iofa69kh4HqbPdyHtaf",
     "type": "CODE"
    }
   },
   "outputs": [],
   "source": [
    "import pandas as pd\n",
    "import numpy as np\n",
    "import seaborn as sns"
   ]
  },
  {
   "attachments": {},
   "cell_type": "markdown",
   "metadata": {
    "datalore": {
     "hide_input_from_viewers": true,
     "hide_output_from_viewers": true,
     "node_id": "AKu1noiSwX9RDnon7ycJMn",
     "type": "MD"
    }
   },
   "source": [
    "2. Let's get the data from `CSV` into a nice `DataFrame`"
   ]
  },
  {
   "cell_type": "code",
   "execution_count": 23,
   "metadata": {
    "datalore": {
     "hide_input_from_viewers": true,
     "hide_output_from_viewers": true,
     "node_id": "XdsOBoX7hR0R7LfcFYv2BL",
     "type": "CODE"
    }
   },
   "outputs": [
    {
     "data": {
      "text/html": [
       "<div>\n",
       "<style scoped>\n",
       "    .dataframe tbody tr th:only-of-type {\n",
       "        vertical-align: middle;\n",
       "    }\n",
       "\n",
       "    .dataframe tbody tr th {\n",
       "        vertical-align: top;\n",
       "    }\n",
       "\n",
       "    .dataframe thead th {\n",
       "        text-align: right;\n",
       "    }\n",
       "</style>\n",
       "<table border=\"1\" class=\"dataframe\">\n",
       "  <thead>\n",
       "    <tr style=\"text-align: right;\">\n",
       "      <th></th>\n",
       "      <th>CreditScore</th>\n",
       "      <th>Gender</th>\n",
       "      <th>Age</th>\n",
       "      <th>Tenure</th>\n",
       "      <th>Balance</th>\n",
       "      <th>NumOfProducts</th>\n",
       "      <th>HasCrCard</th>\n",
       "      <th>IsActiveMember</th>\n",
       "      <th>EstimatedSalary</th>\n",
       "      <th>Exited</th>\n",
       "    </tr>\n",
       "  </thead>\n",
       "  <tbody>\n",
       "    <tr>\n",
       "      <th>0</th>\n",
       "      <td>608</td>\n",
       "      <td>1</td>\n",
       "      <td>41</td>\n",
       "      <td>1</td>\n",
       "      <td>83807.86</td>\n",
       "      <td>1</td>\n",
       "      <td>0</td>\n",
       "      <td>1</td>\n",
       "      <td>112542.58</td>\n",
       "      <td>0</td>\n",
       "    </tr>\n",
       "    <tr>\n",
       "      <th>1</th>\n",
       "      <td>502</td>\n",
       "      <td>1</td>\n",
       "      <td>42</td>\n",
       "      <td>8</td>\n",
       "      <td>159660.80</td>\n",
       "      <td>3</td>\n",
       "      <td>1</td>\n",
       "      <td>0</td>\n",
       "      <td>113931.57</td>\n",
       "      <td>1</td>\n",
       "    </tr>\n",
       "    <tr>\n",
       "      <th>2</th>\n",
       "      <td>850</td>\n",
       "      <td>1</td>\n",
       "      <td>43</td>\n",
       "      <td>2</td>\n",
       "      <td>125510.82</td>\n",
       "      <td>1</td>\n",
       "      <td>1</td>\n",
       "      <td>1</td>\n",
       "      <td>79084.10</td>\n",
       "      <td>0</td>\n",
       "    </tr>\n",
       "    <tr>\n",
       "      <th>3</th>\n",
       "      <td>645</td>\n",
       "      <td>0</td>\n",
       "      <td>44</td>\n",
       "      <td>8</td>\n",
       "      <td>113755.78</td>\n",
       "      <td>2</td>\n",
       "      <td>1</td>\n",
       "      <td>0</td>\n",
       "      <td>149756.71</td>\n",
       "      <td>1</td>\n",
       "    </tr>\n",
       "    <tr>\n",
       "      <th>4</th>\n",
       "      <td>376</td>\n",
       "      <td>1</td>\n",
       "      <td>29</td>\n",
       "      <td>4</td>\n",
       "      <td>115046.74</td>\n",
       "      <td>4</td>\n",
       "      <td>1</td>\n",
       "      <td>0</td>\n",
       "      <td>119346.88</td>\n",
       "      <td>1</td>\n",
       "    </tr>\n",
       "    <tr>\n",
       "      <th>...</th>\n",
       "      <td>...</td>\n",
       "      <td>...</td>\n",
       "      <td>...</td>\n",
       "      <td>...</td>\n",
       "      <td>...</td>\n",
       "      <td>...</td>\n",
       "      <td>...</td>\n",
       "      <td>...</td>\n",
       "      <td>...</td>\n",
       "      <td>...</td>\n",
       "    </tr>\n",
       "    <tr>\n",
       "      <th>6378</th>\n",
       "      <td>597</td>\n",
       "      <td>1</td>\n",
       "      <td>53</td>\n",
       "      <td>4</td>\n",
       "      <td>88381.21</td>\n",
       "      <td>1</td>\n",
       "      <td>1</td>\n",
       "      <td>0</td>\n",
       "      <td>69384.71</td>\n",
       "      <td>1</td>\n",
       "    </tr>\n",
       "    <tr>\n",
       "      <th>6379</th>\n",
       "      <td>644</td>\n",
       "      <td>0</td>\n",
       "      <td>28</td>\n",
       "      <td>7</td>\n",
       "      <td>155060.41</td>\n",
       "      <td>1</td>\n",
       "      <td>1</td>\n",
       "      <td>0</td>\n",
       "      <td>29179.52</td>\n",
       "      <td>0</td>\n",
       "    </tr>\n",
       "    <tr>\n",
       "      <th>6380</th>\n",
       "      <td>516</td>\n",
       "      <td>0</td>\n",
       "      <td>35</td>\n",
       "      <td>10</td>\n",
       "      <td>57369.61</td>\n",
       "      <td>1</td>\n",
       "      <td>1</td>\n",
       "      <td>1</td>\n",
       "      <td>101699.77</td>\n",
       "      <td>0</td>\n",
       "    </tr>\n",
       "    <tr>\n",
       "      <th>6381</th>\n",
       "      <td>772</td>\n",
       "      <td>0</td>\n",
       "      <td>42</td>\n",
       "      <td>3</td>\n",
       "      <td>75075.31</td>\n",
       "      <td>2</td>\n",
       "      <td>1</td>\n",
       "      <td>0</td>\n",
       "      <td>92888.52</td>\n",
       "      <td>1</td>\n",
       "    </tr>\n",
       "    <tr>\n",
       "      <th>6382</th>\n",
       "      <td>792</td>\n",
       "      <td>1</td>\n",
       "      <td>28</td>\n",
       "      <td>4</td>\n",
       "      <td>130142.79</td>\n",
       "      <td>1</td>\n",
       "      <td>1</td>\n",
       "      <td>0</td>\n",
       "      <td>38190.78</td>\n",
       "      <td>0</td>\n",
       "    </tr>\n",
       "  </tbody>\n",
       "</table>\n",
       "<p>6383 rows × 10 columns</p>\n",
       "</div>"
      ],
      "text/plain": [
       "      CreditScore  Gender  Age  Tenure    Balance  NumOfProducts  HasCrCard  \\\n",
       "0             608       1   41       1   83807.86              1          0   \n",
       "1             502       1   42       8  159660.80              3          1   \n",
       "2             850       1   43       2  125510.82              1          1   \n",
       "3             645       0   44       8  113755.78              2          1   \n",
       "4             376       1   29       4  115046.74              4          1   \n",
       "...           ...     ...  ...     ...        ...            ...        ...   \n",
       "6378          597       1   53       4   88381.21              1          1   \n",
       "6379          644       0   28       7  155060.41              1          1   \n",
       "6380          516       0   35      10   57369.61              1          1   \n",
       "6381          772       0   42       3   75075.31              2          1   \n",
       "6382          792       1   28       4  130142.79              1          1   \n",
       "\n",
       "      IsActiveMember  EstimatedSalary  Exited  \n",
       "0                  1        112542.58       0  \n",
       "1                  0        113931.57       1  \n",
       "2                  1         79084.10       0  \n",
       "3                  0        149756.71       1  \n",
       "4                  0        119346.88       1  \n",
       "...              ...              ...     ...  \n",
       "6378               0         69384.71       1  \n",
       "6379               0         29179.52       0  \n",
       "6380               1        101699.77       0  \n",
       "6381               0         92888.52       1  \n",
       "6382               0         38190.78       0  \n",
       "\n",
       "[6383 rows x 10 columns]"
      ]
     },
     "execution_count": 23,
     "metadata": {},
     "output_type": "execute_result"
    }
   ],
   "source": [
    "churn = pd.read_csv('https://wagon-public-datasets.s3.amazonaws.com/sprints/ml-churn.csv')\n",
    "churn"
   ]
  },
  {
   "attachments": {},
   "cell_type": "markdown",
   "metadata": {
    "datalore": {
     "hide_input_from_viewers": true,
     "hide_output_from_viewers": true,
     "node_id": "slzZWebghzd3l5ce6y8Eh8",
     "type": "MD"
    }
   },
   "source": [
    "3. Always a good idea to do some **visual exploration** first 📊\n",
    "\n",
    "In this case, we care about whether the customer has `Exited` or **churned**. So we can try to plot the different features (inputs) keeping `Exited` as the color differentiator (hue).\n",
    "\n",
    "### (Optional) Visualize the data with `seaborn` or the built in `Visualize` tab in Datalore! 📊\n",
    "\n",
    "Experiment with the `scatterplot` below by changing which columns will be `x` axis and `y` axis. Make sure to type the column names correctly! 👀"
   ]
  },
  {
   "cell_type": "code",
   "execution_count": 25,
   "metadata": {
    "datalore": {
     "hide_input_from_viewers": true,
     "hide_output_from_viewers": true,
     "node_id": "9iu4WOVLmnaT3EPbEQlyyP",
     "type": "CODE"
    }
   },
   "outputs": [
    {
     "data": {
      "text/plain": [
       "<Axes: xlabel='Age', ylabel='CreditScore'>"
      ]
     },
     "execution_count": 25,
     "metadata": {},
     "output_type": "execute_result"
    },
    {
     "data": {
      "image/png": "[encoded data removed]",
      "text/plain": [
       "<Figure size 640x480 with 1 Axes>"
      ]
     },
     "metadata": {},
     "output_type": "display_data"
    }
   ],
   "source": [
    "sns.scatterplot(data=churn, x='Age', y='CreditScore', hue='Gender')"
   ]
  },
  {
   "attachments": {},
   "cell_type": "markdown",
   "metadata": {
    "datalore": {
     "hide_input_from_viewers": true,
     "hide_output_from_viewers": true,
     "node_id": "gpWsOw3kkUtcZ550SIy2Zr",
     "type": "MD"
    }
   },
   "source": [
    "----------"
   ]
  },
  {
   "attachments": {},
   "cell_type": "markdown",
   "metadata": {
    "datalore": {
     "hide_input_from_viewers": true,
     "hide_output_from_viewers": true,
     "node_id": "pjZiHCPtb0Nth861X5WdC3",
     "type": "MD"
    }
   },
   "source": [
    "4. Time for Machine Learning! Import the model from Scikit-learn:"
   ]
  },
  {
   "cell_type": "code",
   "execution_count": 26,
   "metadata": {
    "datalore": {
     "hide_input_from_viewers": true,
     "hide_output_from_viewers": true,
     "node_id": "360KvCDaace8BznEevfJJy",
     "type": "CODE"
    }
   },
   "outputs": [],
   "source": [
    "from sklearn.neighbors import KNeighborsClassifier"
   ]
  },
  {
   "attachments": {},
   "cell_type": "markdown",
   "metadata": {
    "datalore": {
     "hide_input_from_viewers": true,
     "hide_output_from_viewers": true,
     "node_id": "Dvz3sSF879aICrIxyib44g",
     "type": "MD"
    }
   },
   "source": [
    "5. Initialize the model and **pick a number of neighbors** `n_neighbors` to match against:"
   ]
  },
  {
   "cell_type": "code",
   "execution_count": 27,
   "metadata": {
    "datalore": {
     "hide_input_from_viewers": true,
     "hide_output_from_viewers": true,
     "node_id": "AoMMWIXn5KRPbWen2tN9iR",
     "type": "CODE"
    }
   },
   "outputs": [],
   "source": [
    "model = KNeighborsClassifier(n_neighbors=3)"
   ]
  },
  {
   "attachments": {},
   "cell_type": "markdown",
   "metadata": {
    "datalore": {
     "hide_input_from_viewers": true,
     "hide_output_from_viewers": true,
     "node_id": "2Lr3aQncG2xZXhEODaoFHO",
     "type": "MD"
    }
   },
   "source": [
    "6. Create our `inputs` and `output`. This time let's call them `x` and `y`:"
   ]
  },
  {
   "cell_type": "code",
   "execution_count": 28,
   "metadata": {
    "datalore": {
     "hide_input_from_viewers": true,
     "hide_output_from_viewers": true,
     "node_id": "94M7pgTOAyIlgJFr1oE2DI",
     "type": "CODE"
    }
   },
   "outputs": [],
   "source": [
    "x = churn.drop([\"Exited\"], axis=\"columns\") # dropping the output column to create the inputs (features)\n",
    "y = churn[\"Exited\"]"
   ]
  },
  {
   "attachments": {},
   "cell_type": "markdown",
   "metadata": {
    "datalore": {
     "hide_input_from_viewers": true,
     "hide_output_from_viewers": true,
     "node_id": "XETGrgMWn6Fz6hve7qbquK",
     "type": "MD"
    }
   },
   "source": [
    "Feel free to check your `x` and `y` below 👇"
   ]
  },
  {
   "cell_type": "code",
   "execution_count": 30,
   "metadata": {
    "datalore": {
     "hide_input_from_viewers": true,
     "hide_output_from_viewers": true,
     "node_id": "GZC5uOWYR5TK5UqG97qmeC",
     "type": "CODE"
    }
   },
   "outputs": [
    {
     "data": {
      "text/html": [
       "<div>\n",
       "<style scoped>\n",
       "    .dataframe tbody tr th:only-of-type {\n",
       "        vertical-align: middle;\n",
       "    }\n",
       "\n",
       "    .dataframe tbody tr th {\n",
       "        vertical-align: top;\n",
       "    }\n",
       "\n",
       "    .dataframe thead th {\n",
       "        text-align: right;\n",
       "    }\n",
       "</style>\n",
       "<table border=\"1\" class=\"dataframe\">\n",
       "  <thead>\n",
       "    <tr style=\"text-align: right;\">\n",
       "      <th></th>\n",
       "      <th>CreditScore</th>\n",
       "      <th>Gender</th>\n",
       "      <th>Age</th>\n",
       "      <th>Tenure</th>\n",
       "      <th>Balance</th>\n",
       "      <th>NumOfProducts</th>\n",
       "      <th>HasCrCard</th>\n",
       "      <th>IsActiveMember</th>\n",
       "      <th>EstimatedSalary</th>\n",
       "    </tr>\n",
       "  </thead>\n",
       "  <tbody>\n",
       "    <tr>\n",
       "      <th>0</th>\n",
       "      <td>608</td>\n",
       "      <td>1</td>\n",
       "      <td>41</td>\n",
       "      <td>1</td>\n",
       "      <td>83807.86</td>\n",
       "      <td>1</td>\n",
       "      <td>0</td>\n",
       "      <td>1</td>\n",
       "      <td>112542.58</td>\n",
       "    </tr>\n",
       "    <tr>\n",
       "      <th>1</th>\n",
       "      <td>502</td>\n",
       "      <td>1</td>\n",
       "      <td>42</td>\n",
       "      <td>8</td>\n",
       "      <td>159660.80</td>\n",
       "      <td>3</td>\n",
       "      <td>1</td>\n",
       "      <td>0</td>\n",
       "      <td>113931.57</td>\n",
       "    </tr>\n",
       "    <tr>\n",
       "      <th>2</th>\n",
       "      <td>850</td>\n",
       "      <td>1</td>\n",
       "      <td>43</td>\n",
       "      <td>2</td>\n",
       "      <td>125510.82</td>\n",
       "      <td>1</td>\n",
       "      <td>1</td>\n",
       "      <td>1</td>\n",
       "      <td>79084.10</td>\n",
       "    </tr>\n",
       "    <tr>\n",
       "      <th>3</th>\n",
       "      <td>645</td>\n",
       "      <td>0</td>\n",
       "      <td>44</td>\n",
       "      <td>8</td>\n",
       "      <td>113755.78</td>\n",
       "      <td>2</td>\n",
       "      <td>1</td>\n",
       "      <td>0</td>\n",
       "      <td>149756.71</td>\n",
       "    </tr>\n",
       "    <tr>\n",
       "      <th>4</th>\n",
       "      <td>376</td>\n",
       "      <td>1</td>\n",
       "      <td>29</td>\n",
       "      <td>4</td>\n",
       "      <td>115046.74</td>\n",
       "      <td>4</td>\n",
       "      <td>1</td>\n",
       "      <td>0</td>\n",
       "      <td>119346.88</td>\n",
       "    </tr>\n",
       "    <tr>\n",
       "      <th>...</th>\n",
       "      <td>...</td>\n",
       "      <td>...</td>\n",
       "      <td>...</td>\n",
       "      <td>...</td>\n",
       "      <td>...</td>\n",
       "      <td>...</td>\n",
       "      <td>...</td>\n",
       "      <td>...</td>\n",
       "      <td>...</td>\n",
       "    </tr>\n",
       "    <tr>\n",
       "      <th>6378</th>\n",
       "      <td>597</td>\n",
       "      <td>1</td>\n",
       "      <td>53</td>\n",
       "      <td>4</td>\n",
       "      <td>88381.21</td>\n",
       "      <td>1</td>\n",
       "      <td>1</td>\n",
       "      <td>0</td>\n",
       "      <td>69384.71</td>\n",
       "    </tr>\n",
       "    <tr>\n",
       "      <th>6379</th>\n",
       "      <td>644</td>\n",
       "      <td>0</td>\n",
       "      <td>28</td>\n",
       "      <td>7</td>\n",
       "      <td>155060.41</td>\n",
       "      <td>1</td>\n",
       "      <td>1</td>\n",
       "      <td>0</td>\n",
       "      <td>29179.52</td>\n",
       "    </tr>\n",
       "    <tr>\n",
       "      <th>6380</th>\n",
       "      <td>516</td>\n",
       "      <td>0</td>\n",
       "      <td>35</td>\n",
       "      <td>10</td>\n",
       "      <td>57369.61</td>\n",
       "      <td>1</td>\n",
       "      <td>1</td>\n",
       "      <td>1</td>\n",
       "      <td>101699.77</td>\n",
       "    </tr>\n",
       "    <tr>\n",
       "      <th>6381</th>\n",
       "      <td>772</td>\n",
       "      <td>0</td>\n",
       "      <td>42</td>\n",
       "      <td>3</td>\n",
       "      <td>75075.31</td>\n",
       "      <td>2</td>\n",
       "      <td>1</td>\n",
       "      <td>0</td>\n",
       "      <td>92888.52</td>\n",
       "    </tr>\n",
       "    <tr>\n",
       "      <th>6382</th>\n",
       "      <td>792</td>\n",
       "      <td>1</td>\n",
       "      <td>28</td>\n",
       "      <td>4</td>\n",
       "      <td>130142.79</td>\n",
       "      <td>1</td>\n",
       "      <td>1</td>\n",
       "      <td>0</td>\n",
       "      <td>38190.78</td>\n",
       "    </tr>\n",
       "  </tbody>\n",
       "</table>\n",
       "<p>6383 rows × 9 columns</p>\n",
       "</div>"
      ],
      "text/plain": [
       "      CreditScore  Gender  Age  Tenure    Balance  NumOfProducts  HasCrCard  \\\n",
       "0             608       1   41       1   83807.86              1          0   \n",
       "1             502       1   42       8  159660.80              3          1   \n",
       "2             850       1   43       2  125510.82              1          1   \n",
       "3             645       0   44       8  113755.78              2          1   \n",
       "4             376       1   29       4  115046.74              4          1   \n",
       "...           ...     ...  ...     ...        ...            ...        ...   \n",
       "6378          597       1   53       4   88381.21              1          1   \n",
       "6379          644       0   28       7  155060.41              1          1   \n",
       "6380          516       0   35      10   57369.61              1          1   \n",
       "6381          772       0   42       3   75075.31              2          1   \n",
       "6382          792       1   28       4  130142.79              1          1   \n",
       "\n",
       "      IsActiveMember  EstimatedSalary  \n",
       "0                  1        112542.58  \n",
       "1                  0        113931.57  \n",
       "2                  1         79084.10  \n",
       "3                  0        149756.71  \n",
       "4                  0        119346.88  \n",
       "...              ...              ...  \n",
       "6378               0         69384.71  \n",
       "6379               0         29179.52  \n",
       "6380               1        101699.77  \n",
       "6381               0         92888.52  \n",
       "6382               0         38190.78  \n",
       "\n",
       "[6383 rows x 9 columns]"
      ]
     },
     "execution_count": 30,
     "metadata": {},
     "output_type": "execute_result"
    }
   ],
   "source": [
    "# your code here\n",
    "x"
   ]
  },
  {
   "attachments": {},
   "cell_type": "markdown",
   "metadata": {
    "datalore": {
     "hide_input_from_viewers": true,
     "hide_output_from_viewers": true,
     "node_id": "woqtCUQUEXgiW4gtrreuR8",
     "type": "MD"
    }
   },
   "source": [
    "### 1. Your turn! 🚀\n",
    "\n",
    "The **training** and **scoring** part is exactly the same as with the first model - try to solve it!\n",
    "\n",
    "**💡Tip:** try adjusting the number of neighbors - `n_neighbors` - above until you get the best result."
   ]
  },
  {
   "cell_type": "code",
   "execution_count": 31,
   "metadata": {
    "datalore": {
     "hide_input_from_viewers": true,
     "hide_output_from_viewers": true,
     "node_id": "2gQqViGFMlJLMVeOEBJhG7",
     "type": "CODE"
    }
   },
   "outputs": [
    {
     "data": {
      "text/plain": [
       "0.8171706094313019"
      ]
     },
     "execution_count": 31,
     "metadata": {},
     "output_type": "execute_result"
    }
   ],
   "source": [
    "model.fit(x,y)\n",
    "model.score(x,y)"
   ]
  },
  {
   "attachments": {},
   "cell_type": "markdown",
   "metadata": {
    "datalore": {
     "hide_input_from_viewers": true,
     "hide_output_from_viewers": true,
     "node_id": "uYji9UDozZZuFo5kjv1ix1",
     "type": "MD"
    }
   },
   "source": [
    "<details>\n",
    "    <summary>Reveal Solution 🙈</summary>\n",
    "\n",
    "<p> \n",
    "<pre>\n",
    "model.fit(x,y) # this trains the model\n",
    "model.score(x,y) # this scores the model\n",
    "</pre>\n",
    "</details>"
   ]
  },
  {
   "attachments": {},
   "cell_type": "markdown",
   "metadata": {
    "datalore": {
     "hide_input_from_viewers": true,
     "hide_output_from_viewers": true,
     "node_id": "S5bTaiaDnnT4adGy1Ogdtr",
     "type": "MD"
    }
   },
   "source": [
    "This time score metric is **accuracy** - how many predictions did the model get right in our dataset.\n",
    "\n",
    "How is your score? Pretty great for 10 minutes of work, right?! 🤩 Well..."
   ]
  },
  {
   "attachments": {},
   "cell_type": "markdown",
   "metadata": {
    "datalore": {
     "hide_input_from_viewers": true,
     "hide_output_from_viewers": true,
     "node_id": "DxpEPBlk6KFct1zNMrRkMU",
     "type": "MD"
    }
   },
   "source": [
    "----------"
   ]
  },
  {
   "attachments": {},
   "cell_type": "markdown",
   "metadata": {
    "datalore": {
     "hide_input_from_viewers": true,
     "hide_output_from_viewers": true,
     "node_id": "PmjmQgiMcMMgwJMD0P4G3Y",
     "type": "MD"
    }
   },
   "source": [
    "## We've been cheating! 😳"
   ]
  },
  {
   "attachments": {},
   "cell_type": "markdown",
   "metadata": {
    "datalore": {
     "hide_input_from_viewers": true,
     "hide_output_from_viewers": true,
     "node_id": "cRb4XQS5VViZEO9CegKd0a",
     "type": "MD"
    }
   },
   "source": [
    "We've been scoring the model on the same data as it is trained on - too easy! That is called **data leakage**.\n",
    "\n",
    "Scikit-learn library saves us again - let's import and use the [`train_test_split` method](https://scikit-learn.org/0.24/modules/generated/sklearn.model_selection.train_test_split.html) "
   ]
  },
  {
   "cell_type": "code",
   "execution_count": 32,
   "metadata": {
    "datalore": {
     "hide_input_from_viewers": true,
     "hide_output_from_viewers": true,
     "node_id": "10BUVFRXn8r43rxqBCZimF",
     "type": "CODE"
    }
   },
   "outputs": [],
   "source": [
    "from sklearn.model_selection import train_test_split"
   ]
  },
  {
   "attachments": {},
   "cell_type": "markdown",
   "metadata": {
    "datalore": {
     "hide_input_from_viewers": true,
     "hide_output_from_viewers": true,
     "node_id": "DqdwIie8HorlbNQXw44MnB",
     "type": "MD"
    }
   },
   "source": [
    "Below line might look a little crazy. Don't worry.\n",
    "\n",
    "The `train_test_split` method gives us all the datasets we need - inputs and outputs for both training and testing. So we simultaneously create four new variables to store that."
   ]
  },
  {
   "cell_type": "code",
   "execution_count": 33,
   "metadata": {
    "datalore": {
     "hide_input_from_viewers": true,
     "hide_output_from_viewers": true,
     "node_id": "qdabgZLf4vHyG2GRh21zx7",
     "type": "CODE"
    }
   },
   "outputs": [],
   "source": [
    "xtrain, xtest, ytrain, ytest = train_test_split(x, y, test_size=0.2)"
   ]
  },
  {
   "cell_type": "code",
   "execution_count": 35,
   "metadata": {},
   "outputs": [
    {
     "data": {
      "text/html": [
       "<div>\n",
       "<style scoped>\n",
       "    .dataframe tbody tr th:only-of-type {\n",
       "        vertical-align: middle;\n",
       "    }\n",
       "\n",
       "    .dataframe tbody tr th {\n",
       "        vertical-align: top;\n",
       "    }\n",
       "\n",
       "    .dataframe thead th {\n",
       "        text-align: right;\n",
       "    }\n",
       "</style>\n",
       "<table border=\"1\" class=\"dataframe\">\n",
       "  <thead>\n",
       "    <tr style=\"text-align: right;\">\n",
       "      <th></th>\n",
       "      <th>CreditScore</th>\n",
       "      <th>Gender</th>\n",
       "      <th>Age</th>\n",
       "      <th>Tenure</th>\n",
       "      <th>Balance</th>\n",
       "      <th>NumOfProducts</th>\n",
       "      <th>HasCrCard</th>\n",
       "      <th>IsActiveMember</th>\n",
       "      <th>EstimatedSalary</th>\n",
       "    </tr>\n",
       "  </thead>\n",
       "  <tbody>\n",
       "    <tr>\n",
       "      <th>3413</th>\n",
       "      <td>700</td>\n",
       "      <td>0</td>\n",
       "      <td>37</td>\n",
       "      <td>1</td>\n",
       "      <td>135179.49</td>\n",
       "      <td>1</td>\n",
       "      <td>1</td>\n",
       "      <td>0</td>\n",
       "      <td>160670.37</td>\n",
       "    </tr>\n",
       "    <tr>\n",
       "      <th>545</th>\n",
       "      <td>646</td>\n",
       "      <td>0</td>\n",
       "      <td>46</td>\n",
       "      <td>1</td>\n",
       "      <td>170826.55</td>\n",
       "      <td>2</td>\n",
       "      <td>1</td>\n",
       "      <td>0</td>\n",
       "      <td>45041.32</td>\n",
       "    </tr>\n",
       "    <tr>\n",
       "      <th>4104</th>\n",
       "      <td>615</td>\n",
       "      <td>1</td>\n",
       "      <td>33</td>\n",
       "      <td>3</td>\n",
       "      <td>137657.25</td>\n",
       "      <td>2</td>\n",
       "      <td>1</td>\n",
       "      <td>1</td>\n",
       "      <td>171657.57</td>\n",
       "    </tr>\n",
       "    <tr>\n",
       "      <th>4026</th>\n",
       "      <td>658</td>\n",
       "      <td>1</td>\n",
       "      <td>28</td>\n",
       "      <td>9</td>\n",
       "      <td>152812.58</td>\n",
       "      <td>1</td>\n",
       "      <td>1</td>\n",
       "      <td>0</td>\n",
       "      <td>166682.57</td>\n",
       "    </tr>\n",
       "    <tr>\n",
       "      <th>4594</th>\n",
       "      <td>799</td>\n",
       "      <td>0</td>\n",
       "      <td>70</td>\n",
       "      <td>8</td>\n",
       "      <td>70416.75</td>\n",
       "      <td>1</td>\n",
       "      <td>1</td>\n",
       "      <td>1</td>\n",
       "      <td>36483.52</td>\n",
       "    </tr>\n",
       "    <tr>\n",
       "      <th>...</th>\n",
       "      <td>...</td>\n",
       "      <td>...</td>\n",
       "      <td>...</td>\n",
       "      <td>...</td>\n",
       "      <td>...</td>\n",
       "      <td>...</td>\n",
       "      <td>...</td>\n",
       "      <td>...</td>\n",
       "      <td>...</td>\n",
       "    </tr>\n",
       "    <tr>\n",
       "      <th>80</th>\n",
       "      <td>770</td>\n",
       "      <td>0</td>\n",
       "      <td>24</td>\n",
       "      <td>9</td>\n",
       "      <td>101827.07</td>\n",
       "      <td>1</td>\n",
       "      <td>1</td>\n",
       "      <td>0</td>\n",
       "      <td>167256.35</td>\n",
       "    </tr>\n",
       "    <tr>\n",
       "      <th>1358</th>\n",
       "      <td>637</td>\n",
       "      <td>1</td>\n",
       "      <td>55</td>\n",
       "      <td>1</td>\n",
       "      <td>123378.20</td>\n",
       "      <td>1</td>\n",
       "      <td>1</td>\n",
       "      <td>0</td>\n",
       "      <td>81431.99</td>\n",
       "    </tr>\n",
       "    <tr>\n",
       "      <th>5661</th>\n",
       "      <td>812</td>\n",
       "      <td>1</td>\n",
       "      <td>24</td>\n",
       "      <td>1</td>\n",
       "      <td>92476.88</td>\n",
       "      <td>1</td>\n",
       "      <td>0</td>\n",
       "      <td>0</td>\n",
       "      <td>83247.14</td>\n",
       "    </tr>\n",
       "    <tr>\n",
       "      <th>5919</th>\n",
       "      <td>633</td>\n",
       "      <td>0</td>\n",
       "      <td>61</td>\n",
       "      <td>3</td>\n",
       "      <td>157201.48</td>\n",
       "      <td>1</td>\n",
       "      <td>0</td>\n",
       "      <td>1</td>\n",
       "      <td>50368.63</td>\n",
       "    </tr>\n",
       "    <tr>\n",
       "      <th>3923</th>\n",
       "      <td>611</td>\n",
       "      <td>1</td>\n",
       "      <td>30</td>\n",
       "      <td>9</td>\n",
       "      <td>88594.14</td>\n",
       "      <td>1</td>\n",
       "      <td>1</td>\n",
       "      <td>0</td>\n",
       "      <td>196332.45</td>\n",
       "    </tr>\n",
       "  </tbody>\n",
       "</table>\n",
       "<p>1277 rows × 9 columns</p>\n",
       "</div>"
      ],
      "text/plain": [
       "      CreditScore  Gender  Age  Tenure    Balance  NumOfProducts  HasCrCard  \\\n",
       "3413          700       0   37       1  135179.49              1          1   \n",
       "545           646       0   46       1  170826.55              2          1   \n",
       "4104          615       1   33       3  137657.25              2          1   \n",
       "4026          658       1   28       9  152812.58              1          1   \n",
       "4594          799       0   70       8   70416.75              1          1   \n",
       "...           ...     ...  ...     ...        ...            ...        ...   \n",
       "80            770       0   24       9  101827.07              1          1   \n",
       "1358          637       1   55       1  123378.20              1          1   \n",
       "5661          812       1   24       1   92476.88              1          0   \n",
       "5919          633       0   61       3  157201.48              1          0   \n",
       "3923          611       1   30       9   88594.14              1          1   \n",
       "\n",
       "      IsActiveMember  EstimatedSalary  \n",
       "3413               0        160670.37  \n",
       "545                0         45041.32  \n",
       "4104               1        171657.57  \n",
       "4026               0        166682.57  \n",
       "4594               1         36483.52  \n",
       "...              ...              ...  \n",
       "80                 0        167256.35  \n",
       "1358               0         81431.99  \n",
       "5661               0         83247.14  \n",
       "5919               1         50368.63  \n",
       "3923               0        196332.45  \n",
       "\n",
       "[1277 rows x 9 columns]"
      ]
     },
     "execution_count": 35,
     "metadata": {},
     "output_type": "execute_result"
    }
   ],
   "source": [
    "xtest"
   ]
  },
  {
   "attachments": {},
   "cell_type": "markdown",
   "metadata": {
    "datalore": {
     "hide_input_from_viewers": true,
     "hide_output_from_viewers": true,
     "node_id": "WVVOX06soFMFBvedNxGCpL",
     "type": "MD"
    }
   },
   "source": [
    "### 2. Your turn - this time no cheating! 🚀\n",
    "\n",
    "Now that we have training and testing datasets, you should **initialize** a new model, **train** and **score** it again with the right datasets."
   ]
  },
  {
   "cell_type": "code",
   "execution_count": 37,
   "metadata": {
    "datalore": {
     "hide_input_from_viewers": true,
     "hide_output_from_viewers": true,
     "node_id": "BmR1JzOEs62bPk4miWFNt3",
     "type": "CODE"
    }
   },
   "outputs": [
    {
     "data": {
      "text/plain": [
       "0.754894283476899"
      ]
     },
     "execution_count": 37,
     "metadata": {},
     "output_type": "execute_result"
    }
   ],
   "source": [
    "model = KNeighborsClassifier(n_neighbors=10)\n",
    "model.fit(xtrain, ytrain)\n",
    "model.score(xtest, ytest)"
   ]
  },
  {
   "attachments": {},
   "cell_type": "markdown",
   "metadata": {
    "datalore": {
     "hide_input_from_viewers": true,
     "hide_output_from_viewers": true,
     "node_id": "9vpvhwAm2hJfBr8c7tKolI",
     "type": "MD"
    }
   },
   "source": [
    "<details>\n",
    "    <summary>Reveal Solution 🙈</summary>\n",
    "\n",
    "<p> \n",
    "<pre>\n",
    "model = KNeighborsClassifier(n_neighbors=3)\n",
    "\n",
    "model.fit(xtrain, ytrain) # using only the training data\n",
    "model.score(xtest, ytest) # using unseen testing data to score\n",
    "</pre>\n",
    "</details>"
   ]
  },
  {
   "attachments": {},
   "cell_type": "markdown",
   "metadata": {
    "datalore": {
     "hide_input_from_viewers": true,
     "hide_output_from_viewers": true,
     "node_id": "74R5wzCRtaGs63QNfwTVIr",
     "type": "MD"
    }
   },
   "source": [
    "----------"
   ]
  },
  {
   "attachments": {},
   "cell_type": "markdown",
   "metadata": {
    "datalore": {
     "hide_input_from_viewers": true,
     "hide_output_from_viewers": true,
     "node_id": "rWyiQZbtiKoaXtE5TldgEm",
     "type": "MD"
    }
   },
   "source": [
    "### 3.1. Your turn - prediction! 🚀\n",
    "\n",
    "The prediction also works exactly as the previous model, so we let you do that. We created an example customer which you can tune.\n",
    "\n",
    "*Note: the feature order is:* \n",
    "\n",
    "`['CreditScore', 'Gender', 'Age', 'Tenure', 'Balance', 'NumOfProducts', 'HasCrCard', 'IsActiveMember', 'EstimatedSalary']`"
   ]
  },
  {
   "cell_type": "code",
   "execution_count": 38,
   "metadata": {
    "datalore": {
     "hide_input_from_viewers": true,
     "hide_output_from_viewers": true,
     "node_id": "eGv4jpEU4k8hdL2UwoyAuy",
     "type": "CODE"
    }
   },
   "outputs": [
    {
     "name": "stderr",
     "output_type": "stream",
     "text": [
      "/Users/marco/.virtualenvs/dsfoundation_py310/lib/python3.10/site-packages/sklearn/base.py:493: UserWarning: X does not have valid feature names, but KNeighborsClassifier was fitted with feature names\n",
      "  warnings.warn(\n"
     ]
    },
    {
     "data": {
      "text/plain": [
       "array([0])"
      ]
     },
     "execution_count": 38,
     "metadata": {},
     "output_type": "execute_result"
    }
   ],
   "source": [
    "customer = [[608.0, 1.0, 31.0, 20.0, 81207.86, 2.0, 1.0, 0.0, 111142.58]]\n",
    "\n",
    "model.predict(customer)"
   ]
  },
  {
   "attachments": {},
   "cell_type": "markdown",
   "metadata": {
    "datalore": {
     "hide_input_from_viewers": true,
     "hide_output_from_viewers": true,
     "node_id": "N5srqmit21kW9Z28MpfXOG",
     "type": "MD"
    }
   },
   "source": [
    "<details>\n",
    "    <summary>Reveal Solution 🙈</summary>\n",
    "\n",
    "<p> \n",
    "<pre>\n",
    "model.predict(customer)\n",
    "</pre>\n",
    "</details>"
   ]
  },
  {
   "attachments": {},
   "cell_type": "markdown",
   "metadata": {
    "datalore": {
     "hide_input_from_viewers": true,
     "hide_output_from_viewers": true,
     "node_id": "XTNnr15T0r9WMUVKu79DUi",
     "type": "MD"
    }
   },
   "source": [
    "### 3.2. Your turn! 🚀Adding probability\n",
    "\n",
    "To understand the model's decision a bit more, we can use the `predict_proba()` method. It works exactly the same as the `predict()` method you used above. Can you write the code?"
   ]
  },
  {
   "cell_type": "code",
   "execution_count": 39,
   "metadata": {
    "datalore": {
     "hide_input_from_viewers": true,
     "hide_output_from_viewers": true,
     "node_id": "2yxidg4kBphIwkAWAB7mWg",
     "type": "CODE"
    }
   },
   "outputs": [
    {
     "name": "stderr",
     "output_type": "stream",
     "text": [
      "/Users/marco/.virtualenvs/dsfoundation_py310/lib/python3.10/site-packages/sklearn/base.py:493: UserWarning: X does not have valid feature names, but KNeighborsClassifier was fitted with feature names\n",
      "  warnings.warn(\n"
     ]
    },
    {
     "data": {
      "text/plain": [
       "array([[0.8, 0.2]])"
      ]
     },
     "execution_count": 39,
     "metadata": {},
     "output_type": "execute_result"
    }
   ],
   "source": [
    "model.predict_proba(customer)"
   ]
  },
  {
   "attachments": {},
   "cell_type": "markdown",
   "metadata": {
    "datalore": {
     "hide_input_from_viewers": true,
     "hide_output_from_viewers": true,
     "node_id": "8f9dEQ6SE048lF0oUHyaTm",
     "type": "MD"
    }
   },
   "source": [
    "<details>\n",
    "    <summary>Reveal Solution 🙈</summary>\n",
    "\n",
    "<p> \n",
    "<pre>\n",
    "model.predict_proba(customer)\n",
    "</pre>\n",
    "</details>"
   ]
  },
  {
   "attachments": {},
   "cell_type": "markdown",
   "metadata": {
    "datalore": {
     "hide_input_from_viewers": true,
     "hide_output_from_viewers": true,
     "node_id": "nix5fDdjkyi7tuOlk02vlx",
     "type": "MD"
    }
   },
   "source": [
    "### 4. Your turn! 🚀\n",
    "\n",
    "Try to tune the features inside `customer` variable to get different results. What insights can you see? 🔍"
   ]
  },
  {
   "cell_type": "markdown",
   "metadata": {},
   "source": [
    "['CreditScore', 'Gender', 'Age', 'Tenure', 'Balance', 'NumOfProducts', 'HasCrCard', 'IsActiveMember', 'EstimatedSalary']"
   ]
  },
  {
   "cell_type": "code",
   "execution_count": 46,
   "metadata": {
    "datalore": {
     "hide_input_from_viewers": true,
     "hide_output_from_viewers": true,
     "node_id": "VqKQ1kgMGQ3PQZ4CalJta1",
     "type": "CODE"
    }
   },
   "outputs": [
    {
     "name": "stdout",
     "output_type": "stream",
     "text": [
      "[[0.7 0.3]]\n"
     ]
    },
    {
     "name": "stderr",
     "output_type": "stream",
     "text": [
      "/Users/marco/.virtualenvs/dsfoundation_py310/lib/python3.10/site-packages/sklearn/base.py:493: UserWarning: X does not have valid feature names, but KNeighborsClassifier was fitted with feature names\n",
      "  warnings.warn(\n",
      "/Users/marco/.virtualenvs/dsfoundation_py310/lib/python3.10/site-packages/sklearn/base.py:493: UserWarning: X does not have valid feature names, but KNeighborsClassifier was fitted with feature names\n",
      "  warnings.warn(\n"
     ]
    },
    {
     "data": {
      "text/plain": [
       "array([0])"
      ]
     },
     "execution_count": 46,
     "metadata": {},
     "output_type": "execute_result"
    }
   ],
   "source": [
    "customer = [[60.0, 1.0, 31.0, 20.0, 207.86, 2.0, 1.0, 0.0, 1142.58]]\n",
    "\n",
    "print(model.predict_proba(customer))\n",
    "model.predict(customer)"
   ]
  },
  {
   "cell_type": "code",
   "execution_count": 47,
   "metadata": {},
   "outputs": [
    {
     "data": {
      "text/plain": [
       "Exited\n",
       "0    4846\n",
       "1    1537\n",
       "Name: count, dtype: int64"
      ]
     },
     "execution_count": 47,
     "metadata": {},
     "output_type": "execute_result"
    }
   ],
   "source": [
    "churn['Exited'].value_counts()"
   ]
  },
  {
   "attachments": {},
   "cell_type": "markdown",
   "metadata": {
    "datalore": {
     "hide_input_from_viewers": true,
     "hide_output_from_viewers": true,
     "node_id": "CRzJqdq4EGbLEMAOEBlLOb",
     "type": "MD"
    }
   },
   "source": [
    "----------"
   ]
  },
  {
   "attachments": {},
   "cell_type": "markdown",
   "metadata": {
    "datalore": {
     "hide_input_from_viewers": true,
     "hide_output_from_viewers": true,
     "node_id": "xUIimG0lPXpUlKXg24B0mF",
     "type": "MD"
    }
   },
   "source": [
    "### Explainability? Already harder with KNN model 😓"
   ]
  },
  {
   "attachments": {},
   "cell_type": "markdown",
   "metadata": {
    "datalore": {
     "hide_input_from_viewers": true,
     "hide_output_from_viewers": true,
     "node_id": "CzcYBZOEtfeeLISi4OVhOJ",
     "type": "MD"
    }
   },
   "source": [
    "We need to use a [feature permutation](https://scikit-learn.org/0.24/modules/generated/sklearn.inspection.permutation_importance.html) method provided by `Scikit-learn`.\n",
    "\n",
    "This method runs the model scoring many times, by changing (*permutating*) one feature at a time, to see which one causes the most change in the target."
   ]
  },
  {
   "cell_type": "code",
   "execution_count": 48,
   "metadata": {
    "datalore": {
     "hide_input_from_viewers": true,
     "hide_output_from_viewers": true,
     "node_id": "jYJp4Z9Gj0CwbRhtUgfxnu",
     "type": "CODE"
    }
   },
   "outputs": [
    {
     "data": {
      "text/plain": [
       "array([['CreditScore', 7.833920877398093e-05],\n",
       "       ['Gender', 0.0],\n",
       "       ['Age', 0.0],\n",
       "       ['Tenure', 0.0],\n",
       "       ['Balance', 0.014473168820994897],\n",
       "       ['NumOfProducts', 0.0],\n",
       "       ['HasCrCard', 0.0],\n",
       "       ['IsActiveMember', 0.0],\n",
       "       ['EstimatedSalary', 0.01398354876615746]], dtype=object)"
      ]
     },
     "execution_count": 48,
     "metadata": {},
     "output_type": "execute_result"
    }
   ],
   "source": [
    "from sklearn.inspection import permutation_importance\n",
    "\n",
    "permutation_score = permutation_importance(model, xtrain, ytrain, n_repeats=10)\n",
    "\n",
    "np.vstack((x.columns, permutation_score.importances_mean)).T"
   ]
  },
  {
   "attachments": {},
   "cell_type": "markdown",
   "metadata": {
    "datalore": {
     "hide_input_from_viewers": true,
     "hide_output_from_viewers": true,
     "node_id": "WuVU5dSiihJwJHfet7POw1",
     "type": "MD"
    }
   },
   "source": [
    "# Congratulations on your first ML models, heroes! 🦸‍♀️🦸‍♂️"
   ]
  },
  {
   "attachments": {},
   "cell_type": "markdown",
   "metadata": {
    "datalore": {
     "hide_input_from_viewers": true,
     "hide_output_from_viewers": true,
     "node_id": "CgwhKPv7nvD7MsRJLgrvsM",
     "type": "MD"
    }
   },
   "source": [
    "-----"
   ]
  },
  {
   "attachments": {},
   "cell_type": "markdown",
   "metadata": {
    "datalore": {
     "hide_input_from_viewers": true,
     "hide_output_from_viewers": true,
     "node_id": "fvqKdyQSzRXrLYdJpTIgb5",
     "type": "MD"
    }
   },
   "source": [
    "## 🕵️‍♀️ Going further? (Optional Challenge) KNN only on categorical columns!"
   ]
  },
  {
   "attachments": {},
   "cell_type": "markdown",
   "metadata": {
    "datalore": {
     "hide_input_from_viewers": true,
     "hide_output_from_viewers": true,
     "node_id": "HnWvPU7VkbjWVVqpT1gyPM",
     "type": "MD"
    }
   },
   "source": [
    "You probably noticed that the **categorical columns** - such as `HasCrCard` or `NumOfProducts` - have virtually no influence on the above model.\n",
    "\n",
    "It might just be that they are strongly outweighed by the other columns, like `Balance` or `EstimatedSalary`. It would be a good idea **create a new model** *only* for the categorical columns."
   ]
  },
  {
   "attachments": {},
   "cell_type": "markdown",
   "metadata": {
    "datalore": {
     "hide_input_from_viewers": true,
     "hide_output_from_viewers": true,
     "node_id": "lcvsyAwDcu1UtdRhfx6T5O",
     "type": "MD"
    }
   },
   "source": [
    "### Your turn - build your own model! 🚀\n",
    "\n",
    "Create a new KNN model **from scratch** and repeat the steps all the way to prediction but this time **only on the categorical columns**. We listed them below:\n",
    "\n",
    "`['NumOfProducts', 'HasCrCard', 'IsActiveMember', 'Gender']`\n",
    "\n",
    "#### **💡Tip:**  Don't be shy to re-use from before and adapt it to the current challenge!"
   ]
  },
  {
   "attachments": {},
   "cell_type": "markdown",
   "metadata": {
    "datalore": {
     "hide_input_from_viewers": true,
     "hide_output_from_viewers": true,
     "node_id": "eC7o5rgKucccuGRImsm0ii",
     "type": "MD"
    }
   },
   "source": [
    "1. Create our `x` (inputs) and `y` (output) datasets"
   ]
  },
  {
   "cell_type": "code",
   "execution_count": null,
   "metadata": {
    "datalore": {
     "hide_input_from_viewers": true,
     "hide_output_from_viewers": true,
     "node_id": "CmV8ONYAoyplzFEV7KHmVT",
     "type": "CODE"
    }
   },
   "outputs": [],
   "source": [
    "# your code goes here"
   ]
  },
  {
   "attachments": {},
   "cell_type": "markdown",
   "metadata": {
    "datalore": {
     "hide_input_from_viewers": true,
     "hide_output_from_viewers": true,
     "node_id": "uAW5Q0lnotN7Er1yKZZW2Q",
     "type": "MD"
    }
   },
   "source": [
    "<details>\n",
    "    <summary>Reveal Solution 🙈</summary>\n",
    "\n",
    "<p> \n",
    "<pre>\n",
    "x = churn.drop(['CreditScore', 'Age', 'Tenure', 'Balance', 'EstimatedSalary'], axis='columns')\n",
    "  # or instead of dropping columns, we can also just select the ones we need:\n",
    "x = churn[['NumOfProducts', 'HasCrCard', 'IsActiveMember', 'Gender']]\n",
    "\n",
    "y = churn.Exited\n",
    "</pre>\n",
    "</details>"
   ]
  },
  {
   "attachments": {},
   "cell_type": "markdown",
   "metadata": {
    "datalore": {
     "hide_input_from_viewers": true,
     "hide_output_from_viewers": true,
     "node_id": "A613iOyoyxlU46qQkfPLsx",
     "type": "MD"
    }
   },
   "source": [
    "2. Split our data into training and testing data with `train_test_split`   (*P.S. no need to `import` a second time*)"
   ]
  },
  {
   "cell_type": "code",
   "execution_count": null,
   "metadata": {
    "datalore": {
     "hide_input_from_viewers": true,
     "hide_output_from_viewers": true,
     "node_id": "tQQiN1JuGFg5p7PSlI5GM6",
     "type": "CODE"
    }
   },
   "outputs": [],
   "source": [
    "# your code here"
   ]
  },
  {
   "attachments": {},
   "cell_type": "markdown",
   "metadata": {
    "datalore": {
     "hide_input_from_viewers": true,
     "hide_output_from_viewers": true,
     "node_id": "yl2tSv2YcsuGJLmFLWRS16",
     "type": "MD"
    }
   },
   "source": [
    "<details>\n",
    "    <summary>Reveal Solution 🙈</summary>\n",
    "\n",
    "<p> \n",
    "<pre>\n",
    "xtrain, xtest, ytrain, ytest = train_test_split(x, y, test_size=0.2)\n",
    "</pre>\n",
    "</details>"
   ]
  },
  {
   "attachments": {},
   "cell_type": "markdown",
   "metadata": {
    "datalore": {
     "hide_input_from_viewers": true,
     "hide_output_from_viewers": true,
     "node_id": "VfNd1U42Zd6DGwiwpm8liM",
     "type": "MD"
    }
   },
   "source": [
    "3. Initialize a KNN model. Pick the number of neighbors `n_neighbors` you like 🙂"
   ]
  },
  {
   "cell_type": "code",
   "execution_count": null,
   "metadata": {
    "datalore": {
     "hide_input_from_viewers": true,
     "hide_output_from_viewers": true,
     "node_id": "THBfbiI1TPvClQlpXBuKfH",
     "type": "CODE"
    }
   },
   "outputs": [],
   "source": [
    "# your code here"
   ]
  },
  {
   "attachments": {},
   "cell_type": "markdown",
   "metadata": {
    "datalore": {
     "hide_input_from_viewers": true,
     "hide_output_from_viewers": true,
     "node_id": "CqjnUw2kmCWvitfg4pqvDp",
     "type": "MD"
    }
   },
   "source": [
    "<details>\n",
    "    <summary>Reveal Solution 🙈</summary>\n",
    "\n",
    "<p> \n",
    "<pre>\n",
    "classifier = KNeighborsClassifier(n_neighbors=3)\n",
    "</pre>\n",
    "</details>"
   ]
  },
  {
   "attachments": {},
   "cell_type": "markdown",
   "metadata": {
    "datalore": {
     "hide_input_from_viewers": true,
     "hide_output_from_viewers": true,
     "node_id": "MNdxxKqn9HMGX12fqkIVZM",
     "type": "MD"
    }
   },
   "source": [
    "4. Train (or fit) the model with the training `x` and `y` datasets"
   ]
  },
  {
   "cell_type": "code",
   "execution_count": null,
   "metadata": {
    "datalore": {
     "hide_input_from_viewers": true,
     "hide_output_from_viewers": true,
     "node_id": "72pnzk1sdVtiOCQIX5WHZK",
     "type": "CODE"
    }
   },
   "outputs": [],
   "source": [
    "# your code here"
   ]
  },
  {
   "attachments": {},
   "cell_type": "markdown",
   "metadata": {
    "datalore": {
     "hide_input_from_viewers": true,
     "hide_output_from_viewers": true,
     "node_id": "5QYtDOKllN2HCtTzJVMUzR",
     "type": "MD"
    }
   },
   "source": [
    "<details>\n",
    "    <summary>Reveal Solution 🙈</summary>\n",
    "\n",
    "<p> \n",
    "<pre>\n",
    "classifier.fit(xtrain, ytrain)\n",
    "</pre>\n",
    "</details>"
   ]
  },
  {
   "attachments": {},
   "cell_type": "markdown",
   "metadata": {
    "datalore": {
     "hide_input_from_viewers": true,
     "hide_output_from_viewers": true,
     "node_id": "wokDt6F55st1ozzrJaKEja",
     "type": "MD"
    }
   },
   "source": [
    "5. Score the model on the testing data. How is the accuracy? Is it comparable to the first model?"
   ]
  },
  {
   "cell_type": "code",
   "execution_count": null,
   "metadata": {
    "datalore": {
     "hide_input_from_viewers": true,
     "hide_output_from_viewers": true,
     "node_id": "jRNu1He288JkgMnCaCRG2N",
     "type": "CODE"
    }
   },
   "outputs": [],
   "source": [
    "# your code here"
   ]
  },
  {
   "attachments": {},
   "cell_type": "markdown",
   "metadata": {
    "datalore": {
     "hide_input_from_viewers": true,
     "hide_output_from_viewers": true,
     "node_id": "B4cS8PBaXc39xTO6f9XYxV",
     "type": "MD"
    }
   },
   "source": [
    "<details>\n",
    "    <summary>Reveal Solution 🙈</summary>\n",
    "\n",
    "<p> \n",
    "<pre>\n",
    "classifier.score(xtest, ytest)\n",
    "</pre>\n",
    "</details>"
   ]
  },
  {
   "attachments": {},
   "cell_type": "markdown",
   "metadata": {
    "datalore": {
     "hide_input_from_viewers": true,
     "hide_output_from_viewers": true,
     "node_id": "iWwGPQEX6W98t2Vh25LSb1",
     "type": "MD"
    }
   },
   "source": [
    "6. Make predictions and checking prediction probability! 🔮 \n",
    "\n",
    "We left a `customer` sample below but **make sure to adjust the numbers to your column order** - you can check the column order by checking your `x` (inputs) dataset"
   ]
  },
  {
   "cell_type": "code",
   "execution_count": null,
   "metadata": {
    "datalore": {
     "hide_input_from_viewers": true,
     "hide_output_from_viewers": true,
     "node_id": "ozjspLuGtPWMizoa9X7gDa",
     "type": "CODE"
    }
   },
   "outputs": [],
   "source": [
    "customer = [[1, 1, 1, 1]]\n",
    "# your code here"
   ]
  },
  {
   "attachments": {},
   "cell_type": "markdown",
   "metadata": {
    "datalore": {
     "hide_input_from_viewers": true,
     "hide_output_from_viewers": true,
     "node_id": "S0r8Uk123oZjRH7SMlOBMT",
     "type": "MD"
    }
   },
   "source": [
    "<details>\n",
    "    <summary>Reveal Solution 🙈</summary>\n",
    "\n",
    "<p> \n",
    "<pre>\n",
    "classifier.predict(customer)\n",
    "   # and in another code cell:\n",
    "classifier.predict_proba(customer)\n",
    "</pre>\n",
    "</details>"
   ]
  },
  {
   "attachments": {},
   "cell_type": "markdown",
   "metadata": {
    "datalore": {
     "hide_input_from_viewers": true,
     "hide_output_from_viewers": true,
     "node_id": "naOOtJhmMMZXhn6wNgTTsy",
     "type": "MD"
    }
   },
   "source": [
    "7. **Explainability** - let's check importance of each input with `permutation_importance` once again. What do you find? 🔍\n",
    "\n",
    "⚠️ We left the variables that **you need to replace with your variables** in `UPCASED_LETTERS` 👇"
   ]
  },
  {
   "cell_type": "code",
   "execution_count": null,
   "metadata": {
    "datalore": {
     "hide_input_from_viewers": true,
     "hide_output_from_viewers": true,
     "node_id": "6NOJYScIb3k0Qgm58JMYY3",
     "type": "CODE"
    }
   },
   "outputs": [],
   "source": [
    "permutation_score = permutation_importance(YOUR_MODEL, TRAINING_X_DATA, TRAINING_Y_DATA, n_repeats=10)\n",
    "\n",
    "np.vstack((TRAINING_X_DATA.columns, permutation_score.importances_mean)).T"
   ]
  },
  {
   "attachments": {},
   "cell_type": "markdown",
   "metadata": {
    "datalore": {
     "hide_input_from_viewers": true,
     "hide_output_from_viewers": true,
     "node_id": "9ogWc0uhBb9hgi2GeBItRR",
     "type": "MD"
    }
   },
   "source": [
    "**Bonus:** we can visualize the findings above with another `scatterplot`:"
   ]
  },
  {
   "cell_type": "code",
   "execution_count": null,
   "metadata": {
    "datalore": {
     "hide_input_from_viewers": true,
     "hide_output_from_viewers": true,
     "node_id": "WU9sUDNQdDrJHPEnzM1RiJ",
     "type": "CODE"
    }
   },
   "outputs": [],
   "source": [
    "sns.scatterplot(data=churn, x='NumOfProducts', y='Balance', hue='Exited')"
   ]
  },
  {
   "attachments": {},
   "cell_type": "markdown",
   "metadata": {
    "datalore": {
     "hide_input_from_viewers": true,
     "hide_output_from_viewers": true,
     "node_id": "XDDWXh7y4TqETcqkqnJ6ZO",
     "type": "MD"
    }
   },
   "source": [
    "# Congratulations on completing the optional challenge! 🏋️‍♀️🏋️‍♂️"
   ]
  }
 ],
 "metadata": {
  "datalore": {
   "base_environment": "default",
   "computation_mode": "JUPYTER",
   "package_manager": "pip",
   "packages": [],
   "report_row_ids": [],
   "version": 3
  },
  "kernelspec": {
   "display_name": "dsfoundation_py310",
   "language": "python",
   "name": "dsfoundation_py310"
  },
  "language_info": {
   "codemirror_mode": {
    "name": "ipython",
    "version": 3
   },
   "file_extension": ".py",
   "mimetype": "text/x-python",
   "name": "python",
   "nbconvert_exporter": "python",
   "pygments_lexer": "ipython3",
   "version": "3.10.8"
  }
 },
 "nbformat": 4,
 "nbformat_minor": 4
}
